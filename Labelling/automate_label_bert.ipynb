{
 "cells": [
  {
   "cell_type": "code",
   "execution_count": 2,
   "metadata": {},
   "outputs": [
    {
     "name": "stderr",
     "output_type": "stream",
     "text": [
      "c:\\Python311\\Lib\\site-packages\\tqdm\\auto.py:21: TqdmWarning: IProgress not found. Please update jupyter and ipywidgets. See https://ipywidgets.readthedocs.io/en/stable/user_install.html\n",
      "  from .autonotebook import tqdm as notebook_tqdm\n"
     ]
    }
   ],
   "source": [
    "import pandas as pd\n",
    "import tensorflow as tf\n",
    "from transformers import AutoTokenizer, TFAutoModelForSequenceClassification\n",
    "import numpy as np"
   ]
  },
  {
   "cell_type": "code",
   "execution_count": 3,
   "metadata": {},
   "outputs": [
    {
     "data": {
      "text/html": [
       "<div>\n",
       "<style scoped>\n",
       "    .dataframe tbody tr th:only-of-type {\n",
       "        vertical-align: middle;\n",
       "    }\n",
       "\n",
       "    .dataframe tbody tr th {\n",
       "        vertical-align: top;\n",
       "    }\n",
       "\n",
       "    .dataframe thead th {\n",
       "        text-align: right;\n",
       "    }\n",
       "</style>\n",
       "<table border=\"1\" class=\"dataframe\">\n",
       "  <thead>\n",
       "    <tr style=\"text-align: right;\">\n",
       "      <th></th>\n",
       "      <th>Datetime</th>\n",
       "      <th>Tweet Id</th>\n",
       "      <th>Tweet</th>\n",
       "      <th>Username</th>\n",
       "      <th>Language</th>\n",
       "    </tr>\n",
       "  </thead>\n",
       "  <tbody>\n",
       "    <tr>\n",
       "      <th>0</th>\n",
       "      <td>2020-11-05 08:25:32+00:00</td>\n",
       "      <td>1324266586883026945</td>\n",
       "      <td>Indonesia Resesi, Pengusaha Sebut Pertumbuhan ...</td>\n",
       "      <td>liputan6dotcom</td>\n",
       "      <td>in</td>\n",
       "    </tr>\n",
       "    <tr>\n",
       "      <th>1</th>\n",
       "      <td>2020-10-17 10:36:09+00:00</td>\n",
       "      <td>1317414089144987649</td>\n",
       "      <td>Pengamat mengatakan, pertumbuhan ekonomi baru ...</td>\n",
       "      <td>LokadataID</td>\n",
       "      <td>in</td>\n",
       "    </tr>\n",
       "    <tr>\n",
       "      <th>2</th>\n",
       "      <td>2020-09-28 05:23:24+00:00</td>\n",
       "      <td>1310450011230990342</td>\n",
       "      <td>Pengamat mengatakan, pertumbuhan ekonomi baru ...</td>\n",
       "      <td>LokadataID</td>\n",
       "      <td>in</td>\n",
       "    </tr>\n",
       "    <tr>\n",
       "      <th>3</th>\n",
       "      <td>2020-09-24 13:42:22+00:00</td>\n",
       "      <td>1309126027755556864</td>\n",
       "      <td>Kalau Kanker, Sepertinya Sudah Masuk Stadium E...</td>\n",
       "      <td>myputun</td>\n",
       "      <td>in</td>\n",
       "    </tr>\n",
       "    <tr>\n",
       "      <th>4</th>\n",
       "      <td>2020-09-24 07:31:13+00:00</td>\n",
       "      <td>1309032626439757826</td>\n",
       "      <td>Ini Bukan Kabar Baik, Ekonomi Indonesia Dipred...</td>\n",
       "      <td>BizlawIndonesia</td>\n",
       "      <td>in</td>\n",
       "    </tr>\n",
       "  </tbody>\n",
       "</table>\n",
       "</div>"
      ],
      "text/plain": [
       "                    Datetime             Tweet Id  \\\n",
       "0  2020-11-05 08:25:32+00:00  1324266586883026945   \n",
       "1  2020-10-17 10:36:09+00:00  1317414089144987649   \n",
       "2  2020-09-28 05:23:24+00:00  1310450011230990342   \n",
       "3  2020-09-24 13:42:22+00:00  1309126027755556864   \n",
       "4  2020-09-24 07:31:13+00:00  1309032626439757826   \n",
       "\n",
       "                                               Tweet         Username Language  \n",
       "0  Indonesia Resesi, Pengusaha Sebut Pertumbuhan ...   liputan6dotcom       in  \n",
       "1  Pengamat mengatakan, pertumbuhan ekonomi baru ...       LokadataID       in  \n",
       "2  Pengamat mengatakan, pertumbuhan ekonomi baru ...       LokadataID       in  \n",
       "3  Kalau Kanker, Sepertinya Sudah Masuk Stadium E...          myputun       in  \n",
       "4  Ini Bukan Kabar Baik, Ekonomi Indonesia Dipred...  BizlawIndonesia       in  "
      ]
     },
     "execution_count": 3,
     "metadata": {},
     "output_type": "execute_result"
    }
   ],
   "source": [
    "df = pd.read_csv('../Dataset/tweet_scrape_result_merged.csv')\n",
    "df.head()"
   ]
  },
  {
   "cell_type": "code",
   "execution_count": 4,
   "metadata": {},
   "outputs": [
    {
     "name": "stderr",
     "output_type": "stream",
     "text": [
      "All model checkpoint layers were used when initializing TFBertForSequenceClassification.\n",
      "\n",
      "Some layers of TFBertForSequenceClassification were not initialized from the model checkpoint at indobenchmark/indobert-base-p1 and are newly initialized: ['classifier']\n",
      "You should probably TRAIN this model on a down-stream task to be able to use it for predictions and inference.\n"
     ]
    },
    {
     "name": "stdout",
     "output_type": "stream",
     "text": [
      "Teks: Indonesia Resesi, Pengusaha Sebut Pertumbuhan Ekonomi Baru Bangkit di 2023 https://t.co/Xp2EtHsrKP\n",
      "Sentimen: Netral\n",
      "\n",
      "Teks: Pengamat mengatakan, pertumbuhan ekonomi baru bisa normal pada 2023. Namun, jika tidak ada perbaikan dalam penanganan pandemi dan resesi ekonomi terus berlanjut hingga 2021, Indonesia kemungkinan akan masuk ke jurang depresi ekonomi.\n",
      "\n",
      "#WaktunyaLokadata https://t.co/AwZlqdViU8\n",
      "Sentimen: Netral\n",
      "\n",
      "Teks: Pengamat mengatakan, pertumbuhan ekonomi baru bisa normal pada 2023. Namun, jika tidak ada perbaikan dalam penanganan pandemi dan resesi ekonomi terus berlanjut hingga 2021, Indonesia kemungkinan akan masuk ke jurang depresi ekonomi.\n",
      "\n",
      "#WaktunyaLokadata https://t.co/AwZlqdViU8\n",
      "Sentimen: Netral\n",
      "\n",
      "Teks: Kalau Kanker, Sepertinya Sudah Masuk Stadium Empat, Sudah Keropos, Menunggu Ambruk Bagai Anjing Mencret yg Sudah Kehilangan Tenaga.\n",
      "Ini Bukan Kabar Baik, Ekonomi Indonesia Diprediksi Baru Sembuh dari Resesi pada 2023, Kebangkrutan Massal Sulit D... https://t.co/780pIX3sf3\n",
      "Sentimen: Netral\n",
      "\n",
      "Teks: Ini Bukan Kabar Baik, Ekonomi Indonesia Diprediksi Baru Sembuh dari Resesi pada 2023, Kebangkrutan Massal Sulit Dihindari https://t.co/fvPodFfNua\n",
      "Sentimen: Netral\n",
      "\n",
      "Teks: Resesi Tak Terhindarkan, Ekonomi Diproyeksi Pulih Total pada 2023 #ddtcnews  https://t.co/K7Rhi2rEZf\n",
      "Sentimen: Netral\n",
      "\n",
      "Teks: Semoga Indonesia dpt berhasil ujicoba vaksin covid-19 di atas 90% shg tdk terkena resesi krisis yg diprediksikan sd 2023... tetap optimis hadapi terbenamnya ekonomi.\n",
      "Sentimen: Netral\n",
      "\n",
      "Teks: @CNNIndonesia Negara Singapura kena resesi ekonomi mungkin bisa pulih 2023 \n",
      "Indonesia kena resesi tahun 2034 atau lebih bisa pulih ..\n",
      "Sentimen: Positif\n",
      "\n",
      "Teks: Covid-19 belum terhandle dengan baik, ekonomi indonesia masih resesi. Bisa2 fully recovered tahun 2023.\n",
      "Sentimen: Netral\n",
      "\n",
      "Teks: 2023 gak jadi resesi soalnya jeben berlayar makin jauh sambil menjalankan ekonomi dunia menjadi lebih gemilang\n",
      "Sentimen: Positif\n",
      "\n"
     ]
    }
   ],
   "source": [
    "# Muat model bahasa dan model klasifikasi sentimen untuk bahasa Indonesia\n",
    "model_name = \"indobenchmark/indobert-base-p1\"\n",
    "tokenizer = AutoTokenizer.from_pretrained(model_name)\n",
    "model = TFAutoModelForSequenceClassification.from_pretrained(model_name)\n",
    "\n",
    "# Teks yang akan dianalisis\n",
    "# texts = [\n",
    "#     \"Ini adalah produk yang sangat bagus. Saya sangat puas.\",\n",
    "#     \"Produk ini sangat buruk. Saya tidak puas sama sekali.\",\n",
    "# ]\n",
    "texts = df['Tweet'][:10]\n",
    "\n",
    "# Tokenisasi dan klasifikasi sentimen\n",
    "sentiments = []\n",
    "for text in texts:\n",
    "    input_ids = tokenizer.encode(text, return_tensors=\"tf\")\n",
    "    outputs = model(input_ids)\n",
    "\n",
    "    predicted_class = tf.argmax(outputs.logits, axis=1).numpy()[0]\n",
    "    if predicted_class == 0:\n",
    "        sentiment = \"Negatif\"\n",
    "    elif predicted_class == 1:\n",
    "        sentiment = \"Netral\"\n",
    "    else:\n",
    "        sentiment = \"Positif\"\n",
    "    sentiments.append(sentiment)\n",
    "\n",
    "# Cetak hasil sentimen\n",
    "for i, text in enumerate(texts):\n",
    "    print(f\"Teks: {text}\")\n",
    "    print(f\"Sentimen: {sentiments[i]}\")\n",
    "    print()\n"
   ]
  }
 ],
 "metadata": {
  "kernelspec": {
   "display_name": "Python 3",
   "language": "python",
   "name": "python3"
  },
  "language_info": {
   "codemirror_mode": {
    "name": "ipython",
    "version": 3
   },
   "file_extension": ".py",
   "mimetype": "text/x-python",
   "name": "python",
   "nbconvert_exporter": "python",
   "pygments_lexer": "ipython3",
   "version": "3.11.5"
  },
  "orig_nbformat": 4
 },
 "nbformat": 4,
 "nbformat_minor": 2
}
